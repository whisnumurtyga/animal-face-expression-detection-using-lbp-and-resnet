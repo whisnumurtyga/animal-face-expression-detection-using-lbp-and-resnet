{
 "cells": [
  {
   "cell_type": "code",
   "execution_count": 5,
   "metadata": {},
   "outputs": [],
   "source": [
    "from PIL import Image\n",
    "import os\n",
    "import pandas as pd"
   ]
  },
  {
   "cell_type": "code",
   "execution_count": 11,
   "metadata": {},
   "outputs": [],
   "source": [
    "\n",
    "# Direktori awal yang ingin Anda iterasi\n",
    "root_directory = './dataset-fix'\n",
    "# output_directory = './dataset-resize-16'  # Direktori output untuk gambar yang diresize\n",
    "output_directory = './dataset-resize-128'  # Direktori output untuk gambar yang diresize\n",
    "\n",
    "# Fungsi untuk resize gambar dan menyimpan ke path yang berbeda\n",
    "def resize_images(input_directory, output_directory, target_size=(100, 100)):\n",
    "    for root, directories, files in os.walk(input_directory):\n",
    "        for file in files:\n",
    "            file_path = os.path.join(root, file)\n",
    "            label = os.path.basename(root)  # Ambil label dari folder saat ini\n",
    "\n",
    "            # Buat path output berdasarkan label\n",
    "            output_path = os.path.join(output_directory, label)\n",
    "            os.makedirs(output_path, exist_ok=True)  # Pastikan direktori label ada\n",
    "\n",
    "            # print(output_path)\n",
    "            # Buka gambar menggunakan PIL\n",
    "            img = Image.open(file_path)\n",
    "            # Lakukan resizing\n",
    "            resized_img = img.resize(target_size)\n",
    "\n",
    "            # Simpan gambar ke path yang berbeda\n",
    "            output_file_path = os.path.join(output_path, file)\n",
    "            resized_img.save(output_file_path)\n",
    "\n",
    "# Panggil fungsi resize_images dengan direktori input dan output yang diinginkan\n",
    "resize_images(root_directory, output_directory, target_size=(128, 128))  # Ganti target_size sesuai kebutuhan\n"
   ]
  }
 ],
 "metadata": {
  "kernelspec": {
   "display_name": "mdl",
   "language": "python",
   "name": "python3"
  },
  "language_info": {
   "codemirror_mode": {
    "name": "ipython",
    "version": 3
   },
   "file_extension": ".py",
   "mimetype": "text/x-python",
   "name": "python",
   "nbconvert_exporter": "python",
   "pygments_lexer": "ipython3",
   "version": "3.7.16"
  }
 },
 "nbformat": 4,
 "nbformat_minor": 2
}
