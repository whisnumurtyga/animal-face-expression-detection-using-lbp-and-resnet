{
 "cells": [
  {
   "cell_type": "markdown",
   "metadata": {},
   "source": [
    "### `Import Library`"
   ]
  },
  {
   "cell_type": "code",
   "execution_count": 1,
   "metadata": {},
   "outputs": [],
   "source": [
    "from PIL import Image\n",
    "import os\n",
    "import pandas as pd"
   ]
  },
  {
   "cell_type": "markdown",
   "metadata": {},
   "source": [
    "### `Config`"
   ]
  },
  {
   "cell_type": "code",
   "execution_count": 48,
   "metadata": {},
   "outputs": [],
   "source": [
    "root_directory = './dataset-fix/'\n",
    "output_directories = ['./dataset-resize-16', './dataset-resize-32', './dataset-resize-64', './dataset-resize-128']\n",
    "save_dir = './dataset-resize/'"
   ]
  },
  {
   "cell_type": "markdown",
   "metadata": {},
   "source": [
    "### `Function`"
   ]
  },
  {
   "cell_type": "code",
   "execution_count": 46,
   "metadata": {},
   "outputs": [],
   "source": [
    "def resize_images(input_directory, out_dir, target_size):\n",
    "    for root, directories, files in os.walk(input_directory):\n",
    "        for file in files:\n",
    "            file_path = os.path.join(root, file)\n",
    "            label = os.path.basename(root)\n",
    "            \n",
    "            output_path = os.path.join(save_dir, out_dir, label)\n",
    "            os.makedirs(output_path, exist_ok=True)\n",
    "\n",
    "            img = Image.open(file_path)\n",
    "            resized_img = img.resize(target_size)\n",
    "\n",
    "            output_file_path = os.path.join(output_path, file)\n",
    "            resized_img.save(output_file_path)"
   ]
  },
  {
   "cell_type": "markdown",
   "metadata": {},
   "source": [
    "### `Main`"
   ]
  },
  {
   "cell_type": "code",
   "execution_count": 47,
   "metadata": {},
   "outputs": [],
   "source": [
    "for out_dir in output_directories:\n",
    "    target_size = int(out_dir.split(\"-\")[-1])  \n",
    "    target_size = (target_size, target_size)\n",
    "    resize_images(root_directory, out_dir, target_size)  "
   ]
  }
 ],
 "metadata": {
  "kernelspec": {
   "display_name": "mdl",
   "language": "python",
   "name": "python3"
  },
  "language_info": {
   "codemirror_mode": {
    "name": "ipython",
    "version": 3
   },
   "file_extension": ".py",
   "mimetype": "text/x-python",
   "name": "python",
   "nbconvert_exporter": "python",
   "pygments_lexer": "ipython3",
   "version": "3.7.16"
  }
 },
 "nbformat": 4,
 "nbformat_minor": 2
}
