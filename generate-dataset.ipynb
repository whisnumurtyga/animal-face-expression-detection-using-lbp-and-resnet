{
 "cells": [
  {
   "cell_type": "markdown",
   "metadata": {},
   "source": [
    "### `Import Library`"
   ]
  },
  {
   "cell_type": "code",
   "execution_count": 2,
   "metadata": {},
   "outputs": [],
   "source": [
    "import cv2\n",
    "import numpy as np\n",
    "import matplotlib.pyplot as plt\n",
    "import pandas as pd\n",
    "import os"
   ]
  },
  {
   "cell_type": "markdown",
   "metadata": {},
   "source": [
    "### `Function`"
   ]
  },
  {
   "cell_type": "code",
   "execution_count": 3,
   "metadata": {},
   "outputs": [],
   "source": [
    "def pre_lbp(image):\n",
    "    gray = cv2.cvtColor(image, cv2.COLOR_BGR2GRAY)\n",
    "    rows, cols = gray.shape[0], gray.shape[1]\n",
    "    pre_lbp = np.zeros((rows, cols), dtype=np.uint8)  \n",
    "    return gray, rows, cols, pre_lbp\n",
    "\n",
    "\n",
    "def calculate_lbp_clockwise(image):\n",
    "    gray, rows, cols, lbp_clockwise = pre_lbp(image)\n",
    "\n",
    "    for i in range(1, rows - 1):  # Hindari satu piksel di tepi atas dan bawah\n",
    "        for j in range(1, cols - 1):  # Hindari satu piksel di tepi kiri dan kanan\n",
    "            center = gray[i, j]\n",
    "            code = 0    \n",
    "            # Tetangga dalam urutan searah jarum jam mulai dari 3 o'clock\n",
    "            neighbors = [gray[i - 1, j], gray[i - 1, j + 1], gray[i, j + 1],\n",
    "                         gray[i + 1, j + 1], gray[i + 1, j], gray[i + 1, j - 1],\n",
    "                         gray[i, j - 1], gray[i - 1, j - 1]]\n",
    "            # Hitung perbedaan antara piksel tetangga dan piksel pusat\n",
    "            for k in range(8):\n",
    "                if neighbors[k] >= center:\n",
    "                    code |= (1 << k)\n",
    "            \n",
    "            lbp_clockwise[i - 1, j - 1] = code\n",
    "    return lbp_clockwise\n",
    "\n",
    "\n",
    "def calculate_lbp_anticlockwise(image):\n",
    "    gray, rows, cols, lbp_anticlockwise = pre_lbp(image)\n",
    "\n",
    "    for i in range(1, rows - 1):\n",
    "        for j in range(1, cols - 1):\n",
    "            center = gray[i, j]\n",
    "            code = 0            \n",
    "            # Tetangga dalam urutan berlawanan arah jarum jam mulai dari 9 o'clock\n",
    "            neighbors = [gray[i - 1, j - 1], gray[i - 1, j], gray[i - 1, j + 1],\n",
    "                         gray[i, j + 1], gray[i + 1, j + 1], gray[i + 1, j], gray[i + 1, j - 1],\n",
    "                         gray[i, j - 1]]\n",
    "            # Hitung perbedaan antara piksel tetangga dan piksel pusat\n",
    "            for k in range(8):\n",
    "                if neighbors[k] >= center:\n",
    "                    code |= (1 << k)\n",
    "            \n",
    "            lbp_anticlockwise[i - 1, j - 1] = code\n",
    "    return lbp_anticlockwise\n",
    "\n",
    "\n",
    "def calculate_ncdblbp_clockwise(image):\n",
    "    gray, rows, cols, ncdlbp_clockwise = pre_lbp(image)\n",
    "\n",
    "    for i in range(1, rows - 1):\n",
    "        for j in range(1, cols - 1):\n",
    "            center = gray[i, j]\n",
    "            code = 0            \n",
    "            # Tetangga dalam urutan searah jarum jam mulai dari 3 o'clock\n",
    "            neighbors = [gray[i - 1, j], gray[i - 1, j + 1], gray[i, j + 1],\n",
    "                         gray[i + 1, j + 1], gray[i + 1, j], gray[i + 1, j - 1],\n",
    "                         gray[i, j - 1], gray[i - 1, j - 1]]\n",
    "            # Hitung perbedaan antara piksel tetangga dan piksel pusat\n",
    "            for k in range(8):\n",
    "                if neighbors[k] >= center:\n",
    "                    code |= (1 << k)\n",
    "            \n",
    "            ncdlbp_clockwise[i, j] = code\n",
    "    return ncdlbp_clockwise\n",
    "\n",
    "\n",
    "def calculate_ncdblbp_anticlockwise(image):\n",
    "    gray, rows, cols, ncdlbp_anticlockwise = pre_lbp(image)\n",
    "    \n",
    "    for i in range(1, rows - 1):\n",
    "        for j in range(1, cols - 1):\n",
    "            center = gray[i, j]\n",
    "            code = 0\n",
    "            \n",
    "            # Tetangga dalam urutan berlawanan arah jarum jam mulai dari 9 o'clock\n",
    "            neighbors = [gray[i - 1, j], gray[i - 1, j - 1], gray[i, j - 1],\n",
    "                         gray[i + 1, j - 1], gray[i + 1, j], gray[i + 1, j + 1],\n",
    "                         gray[i, j + 1], gray[i - 1, j + 1]]\n",
    "            \n",
    "            # Hitung perbedaan antara piksel tetangga dan piksel pusat\n",
    "            for k in range(8):\n",
    "                if neighbors[k] >= center:\n",
    "                    code |= (1 << k)\n",
    "            \n",
    "            ncdlbp_anticlockwise[i, j] = code    \n",
    "    return ncdlbp_anticlockwise\n",
    "\n",
    "\n",
    "\n",
    "def process_image(subfolder_path, file, directory, data):\n",
    "    file_path = os.path.join(subfolder_path, file)\n",
    "    image_path = file_path\n",
    "    image = cv2.imread(image_path)\n",
    "    \n",
    "    temp_lbp = calculate_ncdblbp_anticlockwise(image)\n",
    "    temp_lbp = temp_lbp.flatten()\n",
    "    temp_lbp = temp_lbp.astype(object)\n",
    "    temp_lbp = np.insert(temp_lbp, 0, directory)\n",
    "    data.append(temp_lbp)\n",
    "\n",
    "\n",
    "def save_dataframe_as_csv(data, out_dir, folder_name):\n",
    "    df = pd.DataFrame(data)\n",
    "\n",
    "    if not os.path.exists(out_dir):\n",
    "        os.makedirs(out_dir)\n",
    "\n",
    "    df.to_csv(f'{out_dir}/{folder_name}.csv')"
   ]
  },
  {
   "cell_type": "markdown",
   "metadata": {},
   "source": [
    "### `Config`"
   ]
  },
  {
   "cell_type": "code",
   "execution_count": 7,
   "metadata": {},
   "outputs": [],
   "source": [
    "folder_names = ['dogcat-img-16', 'dogcat-img-32', 'dogcat-img-64', 'dataset-resize-128']\n",
    "# folder_names = ['dataset-resize-32']\n",
    "root_dir = './dataset/dogcat-resize/'\n",
    "out_dir = './dataset/dog-cat-csv/'\n",
    "\n",
    "full_paths = [os.path.join(root_dir, folder) for folder in folder_names]"
   ]
  },
  {
   "cell_type": "markdown",
   "metadata": {},
   "source": [
    "### `Main`"
   ]
  },
  {
   "cell_type": "code",
   "execution_count": 5,
   "metadata": {},
   "outputs": [],
   "source": [
    "for i, path in enumerate(full_paths):\n",
    "    data = []\n",
    "\n",
    "    for root, directories, files in os.walk(path):\n",
    "        folder_name = os.path.basename(root)\n",
    "\n",
    "        for directory in directories:\n",
    "            subfolder_path = os.path.join(root, directory)\n",
    "\n",
    "            for file in os.listdir(subfolder_path):\n",
    "                process_image(subfolder_path, file, directory, data)\n",
    "                \n",
    "    save_dataframe_as_csv(data, out_dir, folder_names[i])"
   ]
  },
  {
   "cell_type": "code",
   "execution_count": 6,
   "metadata": {},
   "outputs": [
    {
     "data": {
      "text/html": [
       "<div>\n",
       "<style scoped>\n",
       "    .dataframe tbody tr th:only-of-type {\n",
       "        vertical-align: middle;\n",
       "    }\n",
       "\n",
       "    .dataframe tbody tr th {\n",
       "        vertical-align: top;\n",
       "    }\n",
       "\n",
       "    .dataframe thead th {\n",
       "        text-align: right;\n",
       "    }\n",
       "</style>\n",
       "<table border=\"1\" class=\"dataframe\">\n",
       "  <thead>\n",
       "    <tr style=\"text-align: right;\">\n",
       "      <th></th>\n",
       "    </tr>\n",
       "  </thead>\n",
       "  <tbody>\n",
       "  </tbody>\n",
       "</table>\n",
       "</div>"
      ],
      "text/plain": [
       "Empty DataFrame\n",
       "Columns: []\n",
       "Index: []"
      ]
     },
     "execution_count": 6,
     "metadata": {},
     "output_type": "execute_result"
    }
   ],
   "source": [
    "df = pd.DataFrame(data)\n",
    "df.head()"
   ]
  }
 ],
 "metadata": {
  "kernelspec": {
   "display_name": "viskom",
   "language": "python",
   "name": "python3"
  },
  "language_info": {
   "codemirror_mode": {
    "name": "ipython",
    "version": 3
   },
   "file_extension": ".py",
   "mimetype": "text/x-python",
   "name": "python",
   "nbconvert_exporter": "python",
   "pygments_lexer": "ipython3",
   "version": "3.7.16"
  }
 },
 "nbformat": 4,
 "nbformat_minor": 2
}
